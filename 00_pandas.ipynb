{
 "cells": [
  {
   "cell_type": "markdown",
   "id": "dfe44248-885b-4c8f-83b7-146870f4715b",
   "metadata": {},
   "source": [
    "<div class=\"alert alert-block alert-info\" style=\"margin-top: 20px\"><h1>Pandas</h1>\n",
    "<code>By AKSHAY KASHYAP</code></div>"
   ]
  },
  {
   "cell_type": "markdown",
   "id": "4bb4fe1f-e27f-489f-ba1e-87094d27ad7e",
   "metadata": {},
   "source": [
    "<hr><div class=\"alert alert-block alert-danger\" style=\"margin-top: 20px\">\n",
    "    <code>Pandas</code> is a Python library designed for data manipulation and analysis.<br>\n",
    "    It provides easy-to-use data structures and tools for cleaning, reshaping,<br>\n",
    "    and analyzing structured data sets.\n",
    "</div><hr>"
   ]
  },
  {
   "cell_type": "code",
   "execution_count": 1,
   "id": "bc6fdcbe-724d-4902-9e3b-32460c579073",
   "metadata": {},
   "outputs": [],
   "source": [
    "import pandas as pd"
   ]
  },
  {
   "cell_type": "code",
   "execution_count": 2,
   "id": "8122687a-0575-4a58-8ff3-39d7293e4fd1",
   "metadata": {},
   "outputs": [
    {
     "data": {
      "text/plain": [
       "'2.2.2'"
      ]
     },
     "execution_count": 2,
     "metadata": {},
     "output_type": "execute_result"
    }
   ],
   "source": [
    "pd.__version__"
   ]
  },
  {
   "cell_type": "code",
   "execution_count": 3,
   "id": "204ec48a-36eb-4c81-aba6-6c180a0a1d04",
   "metadata": {},
   "outputs": [],
   "source": [
    "# defining data in dict\n",
    "my_dataset = {\n",
    "    'cars' : ['BMW', 'Volvo', 'Ford'],\n",
    "    'passings' : [3,7,2]\n",
    "}"
   ]
  },
  {
   "cell_type": "code",
   "execution_count": 4,
   "id": "bd49edf1-bd0a-4b49-aa9d-511912e2da39",
   "metadata": {},
   "outputs": [
    {
     "name": "stdout",
     "output_type": "stream",
     "text": [
      "{'cars': ['BMW', 'Volvo', 'Ford'], 'passings': [3, 7, 2]}\n"
     ]
    }
   ],
   "source": [
    "print(my_dataset)"
   ]
  },
  {
   "cell_type": "code",
   "execution_count": 5,
   "id": "78d61470-9ce8-44a5-9a02-a549ddbc8994",
   "metadata": {},
   "outputs": [
    {
     "data": {
      "text/plain": [
       "dict"
      ]
     },
     "execution_count": 5,
     "metadata": {},
     "output_type": "execute_result"
    }
   ],
   "source": [
    "type(my_dataset)"
   ]
  },
  {
   "cell_type": "code",
   "execution_count": 6,
   "id": "09d5369e-c861-4f58-9595-ef2ec7ca3fc1",
   "metadata": {},
   "outputs": [],
   "source": [
    "m_data = pd.DataFrame(my_dataset) # converting in table\n",
    "\n",
    "# m_data = pd.DataFrame(my_dataset, index = ['one', 'two', 'three']) # with index name"
   ]
  },
  {
   "cell_type": "code",
   "execution_count": 7,
   "id": "2bff0f1b-66fd-4e03-8bd6-539fd5d58d69",
   "metadata": {},
   "outputs": [
    {
     "name": "stdout",
     "output_type": "stream",
     "text": [
      "    cars  passings\n",
      "0    BMW         3\n",
      "1  Volvo         7\n",
      "2   Ford         2\n"
     ]
    },
    {
     "data": {
      "text/plain": [
       "pandas.core.frame.DataFrame"
      ]
     },
     "execution_count": 7,
     "metadata": {},
     "output_type": "execute_result"
    }
   ],
   "source": [
    "print(m_data)\n",
    "type(m_data)"
   ]
  },
  {
   "cell_type": "code",
   "execution_count": 8,
   "id": "bdf36a1a-573f-476e-9d11-b149f8a3277a",
   "metadata": {},
   "outputs": [
    {
     "name": "stdout",
     "output_type": "stream",
     "text": [
      "(3, 2)\n",
      "6\n",
      "RangeIndex(start=0, stop=3, step=1)\n"
     ]
    }
   ],
   "source": [
    "# column name & row index are not consider(in count)\n",
    "print(m_data.shape) \n",
    "print(m_data.size) \n",
    "print(m_data.index)"
   ]
  },
  {
   "cell_type": "code",
   "execution_count": 9,
   "id": "e54307e8-a502-405c-ad32-6aa3921b7524",
   "metadata": {},
   "outputs": [],
   "source": [
    "m_data.drop(m_data.index, inplace = True) # delete all data(rows) but not schema(columnName & its datatype)"
   ]
  },
  {
   "cell_type": "code",
   "execution_count": 10,
   "id": "dcc45ad7-e6b1-44a5-bc90-30e80a8743c7",
   "metadata": {},
   "outputs": [
    {
     "data": {
      "text/html": [
       "<div>\n",
       "<style scoped>\n",
       "    .dataframe tbody tr th:only-of-type {\n",
       "        vertical-align: middle;\n",
       "    }\n",
       "\n",
       "    .dataframe tbody tr th {\n",
       "        vertical-align: top;\n",
       "    }\n",
       "\n",
       "    .dataframe thead th {\n",
       "        text-align: right;\n",
       "    }\n",
       "</style>\n",
       "<table border=\"1\" class=\"dataframe\">\n",
       "  <thead>\n",
       "    <tr style=\"text-align: right;\">\n",
       "      <th></th>\n",
       "      <th>cars</th>\n",
       "      <th>passings</th>\n",
       "    </tr>\n",
       "  </thead>\n",
       "  <tbody>\n",
       "  </tbody>\n",
       "</table>\n",
       "</div>"
      ],
      "text/plain": [
       "Empty DataFrame\n",
       "Columns: [cars, passings]\n",
       "Index: []"
      ]
     },
     "execution_count": 10,
     "metadata": {},
     "output_type": "execute_result"
    }
   ],
   "source": [
    "m_data"
   ]
  },
  {
   "cell_type": "code",
   "execution_count": 11,
   "id": "59a5a31e-f5d0-43d8-a08f-160e8d9b5ecd",
   "metadata": {},
   "outputs": [],
   "source": [
    "m_data.drop(m_data.columns, axis=1, inplace=True) # delete all columns, still it exists"
   ]
  },
  {
   "cell_type": "code",
   "execution_count": 12,
   "id": "01bd6e4f-e589-4942-a367-fb0e0e81b037",
   "metadata": {},
   "outputs": [
    {
     "data": {
      "text/html": [
       "<div>\n",
       "<style scoped>\n",
       "    .dataframe tbody tr th:only-of-type {\n",
       "        vertical-align: middle;\n",
       "    }\n",
       "\n",
       "    .dataframe tbody tr th {\n",
       "        vertical-align: top;\n",
       "    }\n",
       "\n",
       "    .dataframe thead th {\n",
       "        text-align: right;\n",
       "    }\n",
       "</style>\n",
       "<table border=\"1\" class=\"dataframe\">\n",
       "  <thead>\n",
       "    <tr style=\"text-align: right;\">\n",
       "      <th></th>\n",
       "    </tr>\n",
       "  </thead>\n",
       "  <tbody>\n",
       "  </tbody>\n",
       "</table>\n",
       "</div>"
      ],
      "text/plain": [
       "Empty DataFrame\n",
       "Columns: []\n",
       "Index: []"
      ]
     },
     "execution_count": 12,
     "metadata": {},
     "output_type": "execute_result"
    }
   ],
   "source": [
    "m_data"
   ]
  },
  {
   "cell_type": "code",
   "execution_count": 13,
   "id": "f1290279-2fc9-4c40-93b2-1c60e165c89b",
   "metadata": {},
   "outputs": [
    {
     "data": {
      "text/plain": [
       "pandas.core.frame.DataFrame"
      ]
     },
     "execution_count": 13,
     "metadata": {},
     "output_type": "execute_result"
    }
   ],
   "source": [
    "type(m_data) # see, ah it still exists "
   ]
  },
  {
   "cell_type": "code",
   "execution_count": 14,
   "id": "af0cd27b-408b-4fe6-b360-a471630b2737",
   "metadata": {},
   "outputs": [],
   "source": [
    "del m_data # delete it completely from memory "
   ]
  },
  {
   "cell_type": "code",
   "execution_count": 15,
   "id": "b71a9241-fc14-45a2-975a-79638b4f9d11",
   "metadata": {},
   "outputs": [
    {
     "ename": "NameError",
     "evalue": "name 'm_data' is not defined",
     "output_type": "error",
     "traceback": [
      "\u001b[1;31m---------------------------------------------------------------------------\u001b[0m",
      "\u001b[1;31mNameError\u001b[0m                                 Traceback (most recent call last)",
      "Cell \u001b[1;32mIn[15], line 1\u001b[0m\n\u001b[1;32m----> 1\u001b[0m \u001b[43mm_data\u001b[49m \u001b[38;5;66;03m# if error, then you completely deleted it, CONGRATS\u001b[39;00m\n",
      "\u001b[1;31mNameError\u001b[0m: name 'm_data' is not defined"
     ]
    }
   ],
   "source": [
    "m_data # if error, then you completely deleted it, CONGRATS"
   ]
  },
  {
   "cell_type": "markdown",
   "id": "ca620279-e1e0-44b3-a03a-ce022d632033",
   "metadata": {},
   "source": [
    "<div class=\"alert alert-block alert-info\" style=\"margin-top: 20px\">\n",
    "This was the very basics of  <code>Pandas</code>.\n",
    "</div>"
   ]
  },
  {
   "cell_type": "code",
   "execution_count": null,
   "id": "6070b05a-fe84-4d25-9c90-0d53c3aa21e9",
   "metadata": {},
   "outputs": [],
   "source": []
  }
 ],
 "metadata": {
  "kernelspec": {
   "display_name": "Python 3 (ipykernel)",
   "language": "python",
   "name": "python3"
  },
  "language_info": {
   "codemirror_mode": {
    "name": "ipython",
    "version": 3
   },
   "file_extension": ".py",
   "mimetype": "text/x-python",
   "name": "python",
   "nbconvert_exporter": "python",
   "pygments_lexer": "ipython3",
   "version": "3.12.1"
  }
 },
 "nbformat": 4,
 "nbformat_minor": 5
}
